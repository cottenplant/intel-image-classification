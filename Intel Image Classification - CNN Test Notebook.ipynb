{
 "cells": [
  {
   "cell_type": "code",
   "execution_count": 1,
   "metadata": {},
   "outputs": [],
   "source": [
    "import pandas as pd\n",
    "import numpy as np\n",
    "%matplotlib inline\n",
    "import matplotlib.pyplot as plt"
   ]
  },
  {
   "cell_type": "code",
   "execution_count": 2,
   "metadata": {},
   "outputs": [
    {
     "name": "stderr",
     "output_type": "stream",
     "text": [
      "Using TensorFlow backend.\n"
     ]
    }
   ],
   "source": [
    "from keras.preprocessing.image import ImageDataGenerator"
   ]
  },
  {
   "cell_type": "code",
   "execution_count": 3,
   "metadata": {},
   "outputs": [],
   "source": [
    "train_datagen = ImageDataGenerator(\n",
    "    rescale=1./255,\n",
    "    shear_range=0.2,\n",
    "    zoom_range=0.2,\n",
    "    horizontal_flip=True\n",
    ")"
   ]
  },
  {
   "cell_type": "code",
   "execution_count": 4,
   "metadata": {},
   "outputs": [],
   "source": [
    "test_datagen = ImageDataGenerator(rescale=1./255)"
   ]
  },
  {
   "cell_type": "code",
   "execution_count": 5,
   "metadata": {},
   "outputs": [
    {
     "name": "stdout",
     "output_type": "stream",
     "text": [
      "Found 14034 images belonging to 6 classes.\n"
     ]
    }
   ],
   "source": [
    "train_generator = train_datagen.flow_from_directory(\n",
    "    'data/train',\n",
    "    target_size=(150, 150),\n",
    "    batch_size=32,\n",
    "    class_mode='categorical'\n",
    ")"
   ]
  },
  {
   "cell_type": "code",
   "execution_count": 6,
   "metadata": {},
   "outputs": [
    {
     "name": "stdout",
     "output_type": "stream",
     "text": [
      "Found 3000 images belonging to 6 classes.\n"
     ]
    }
   ],
   "source": [
    "validation_generator = test_datagen.flow_from_directory(\n",
    "    'data/validation',\n",
    "    target_size=(150, 150),\n",
    "    batch_size=32,\n",
    "    class_mode='categorical'\n",
    ")"
   ]
  },
  {
   "cell_type": "code",
   "execution_count": 7,
   "metadata": {},
   "outputs": [],
   "source": [
    "from keras.models import Sequential\n",
    "from keras.layers import Dense\n",
    "from keras.layers import Flatten\n",
    "from keras.layers import Dropout\n",
    "from keras.layers import Conv2D\n",
    "from keras.layers import MaxPool2D\n",
    "from keras import optimizers"
   ]
  },
  {
   "cell_type": "code",
   "execution_count": 9,
   "metadata": {},
   "outputs": [
    {
     "name": "stdout",
     "output_type": "stream",
     "text": [
      "WARNING:tensorflow:From /home/samco/anaconda3/lib/python3.7/site-packages/tensorflow/python/framework/op_def_library.py:263: colocate_with (from tensorflow.python.framework.ops) is deprecated and will be removed in a future version.\n",
      "Instructions for updating:\n",
      "Colocations handled automatically by placer.\n",
      "WARNING:tensorflow:From /home/samco/anaconda3/lib/python3.7/site-packages/keras/backend/tensorflow_backend.py:3445: calling dropout (from tensorflow.python.ops.nn_ops) with keep_prob is deprecated and will be removed in a future version.\n",
      "Instructions for updating:\n",
      "Please use `rate` instead of `keep_prob`. Rate should be set to `rate = 1 - keep_prob`.\n"
     ]
    }
   ],
   "source": [
    "model = Sequential()\n",
    "\n",
    "model.add(Conv2D(72, (3,3), padding='same', input_shape=(150, 150, 3), activation='relu'))\n",
    "model.add(Conv2D(64, (3, 3), activation='relu'))\n",
    "model.add(MaxPool2D(pool_size=(5, 5)))\n",
    "\n",
    "model.add(Conv2D(64, (3, 3), padding='same', activation='relu'))\n",
    "model.add(Conv2D(48, (3, 3), activation='relu'))\n",
    "model.add(Conv2D(32, (3, 3), activation='relu'))\n",
    "model.add(Conv2D(24, (3, 3), activation='relu'))\n",
    "model.add(MaxPool2D(pool_size=(5, 5)))\n",
    "\n",
    "model.add(Flatten())\n",
    "\n",
    "model.add(Dense(128, activation='relu'))\n",
    "model.add(Dense(96, activation='relu'))\n",
    "model.add(Dense(64, activation='relu'))\n",
    "model.add(Dropout(rate=0.5))\n",
    "model.add(Dense(6, activation='softmax'))"
   ]
  },
  {
   "cell_type": "code",
   "execution_count": 10,
   "metadata": {},
   "outputs": [],
   "source": [
    "model.compile(loss='categorical_crossentropy', \n",
    "              optimizer=optimizers.RMSprop(lr=0.0001), \n",
    "              metrics=['accuracy'])"
   ]
  },
  {
   "cell_type": "code",
   "execution_count": 11,
   "metadata": {},
   "outputs": [
    {
     "name": "stdout",
     "output_type": "stream",
     "text": [
      "_________________________________________________________________\n",
      "Layer (type)                 Output Shape              Param #   \n",
      "=================================================================\n",
      "conv2d_1 (Conv2D)            (None, 150, 150, 72)      2016      \n",
      "_________________________________________________________________\n",
      "conv2d_2 (Conv2D)            (None, 148, 148, 64)      41536     \n",
      "_________________________________________________________________\n",
      "max_pooling2d_1 (MaxPooling2 (None, 29, 29, 64)        0         \n",
      "_________________________________________________________________\n",
      "conv2d_3 (Conv2D)            (None, 29, 29, 64)        36928     \n",
      "_________________________________________________________________\n",
      "conv2d_4 (Conv2D)            (None, 27, 27, 48)        27696     \n",
      "_________________________________________________________________\n",
      "conv2d_5 (Conv2D)            (None, 25, 25, 32)        13856     \n",
      "_________________________________________________________________\n",
      "conv2d_6 (Conv2D)            (None, 23, 23, 24)        6936      \n",
      "_________________________________________________________________\n",
      "max_pooling2d_2 (MaxPooling2 (None, 4, 4, 24)          0         \n",
      "_________________________________________________________________\n",
      "flatten_1 (Flatten)          (None, 384)               0         \n",
      "_________________________________________________________________\n",
      "dense_1 (Dense)              (None, 128)               49280     \n",
      "_________________________________________________________________\n",
      "dense_2 (Dense)              (None, 96)                12384     \n",
      "_________________________________________________________________\n",
      "dense_3 (Dense)              (None, 64)                6208      \n",
      "_________________________________________________________________\n",
      "dropout_1 (Dropout)          (None, 64)                0         \n",
      "_________________________________________________________________\n",
      "dense_4 (Dense)              (None, 6)                 390       \n",
      "=================================================================\n",
      "Total params: 197,230\n",
      "Trainable params: 197,230\n",
      "Non-trainable params: 0\n",
      "_________________________________________________________________\n"
     ]
    }
   ],
   "source": [
    "model.summary()"
   ]
  },
  {
   "cell_type": "code",
   "execution_count": 12,
   "metadata": {},
   "outputs": [
    {
     "name": "stdout",
     "output_type": "stream",
     "text": [
      "WARNING:tensorflow:From /home/samco/anaconda3/lib/python3.7/site-packages/tensorflow/python/ops/math_ops.py:3066: to_int32 (from tensorflow.python.ops.math_ops) is deprecated and will be removed in a future version.\n",
      "Instructions for updating:\n",
      "Use tf.cast instead.\n",
      "Epoch 1/20\n",
      "20/20 [==============================] - 83s 4s/step - loss: 1.7910 - acc: 0.1609 - val_loss: 1.7838 - val_acc: 0.3219\n",
      "Epoch 2/20\n",
      "20/20 [==============================] - 80s 4s/step - loss: 1.7766 - acc: 0.2297 - val_loss: 1.7484 - val_acc: 0.3469\n",
      "Epoch 3/20\n",
      "20/20 [==============================] - 80s 4s/step - loss: 1.7154 - acc: 0.3063 - val_loss: 1.7089 - val_acc: 0.2437\n",
      "Epoch 4/20\n",
      "20/20 [==============================] - 75s 4s/step - loss: 1.6336 - acc: 0.3187 - val_loss: 1.6726 - val_acc: 0.2359\n",
      "Epoch 5/20\n",
      "20/20 [==============================] - 77s 4s/step - loss: 1.5958 - acc: 0.3375 - val_loss: 1.4890 - val_acc: 0.3639\n",
      "Epoch 6/20\n",
      "20/20 [==============================] - 77s 4s/step - loss: 1.5938 - acc: 0.3219 - val_loss: 1.5318 - val_acc: 0.3031\n",
      "Epoch 7/20\n",
      "20/20 [==============================] - 75s 4s/step - loss: 1.5268 - acc: 0.3578 - val_loss: 1.4734 - val_acc: 0.3453\n",
      "Epoch 8/20\n",
      "20/20 [==============================] - 76s 4s/step - loss: 1.4734 - acc: 0.3703 - val_loss: 1.4526 - val_acc: 0.3641\n",
      "Epoch 9/20\n",
      "20/20 [==============================] - 81s 4s/step - loss: 1.4558 - acc: 0.4062 - val_loss: 1.3572 - val_acc: 0.4250\n",
      "Epoch 10/20\n",
      "20/20 [==============================] - 88s 4s/step - loss: 1.4713 - acc: 0.3969 - val_loss: 1.3624 - val_acc: 0.4589\n",
      "Epoch 11/20\n",
      "20/20 [==============================] - 79s 4s/step - loss: 1.4411 - acc: 0.3641 - val_loss: 1.2851 - val_acc: 0.5016\n",
      "Epoch 12/20\n",
      "20/20 [==============================] - 79s 4s/step - loss: 1.4346 - acc: 0.3969 - val_loss: 1.2473 - val_acc: 0.5328\n",
      "Epoch 13/20\n",
      "20/20 [==============================] - 79s 4s/step - loss: 1.3816 - acc: 0.4250 - val_loss: 1.2892 - val_acc: 0.4594\n",
      "Epoch 14/20\n",
      "20/20 [==============================] - 79s 4s/step - loss: 1.3852 - acc: 0.4234 - val_loss: 1.3144 - val_acc: 0.4688\n",
      "Epoch 15/20\n",
      "20/20 [==============================] - 78s 4s/step - loss: 1.3628 - acc: 0.4344 - val_loss: 1.6660 - val_acc: 0.3465\n",
      "Epoch 16/20\n",
      "20/20 [==============================] - 81s 4s/step - loss: 1.3631 - acc: 0.4625 - val_loss: 1.3739 - val_acc: 0.4344\n",
      "Epoch 17/20\n",
      "20/20 [==============================] - 80s 4s/step - loss: 1.3106 - acc: 0.4391 - val_loss: 1.2263 - val_acc: 0.4766\n",
      "Epoch 18/20\n",
      "20/20 [==============================] - 82s 4s/step - loss: 1.3216 - acc: 0.4422 - val_loss: 1.3048 - val_acc: 0.4625\n",
      "Epoch 19/20\n",
      "20/20 [==============================] - 84s 4s/step - loss: 1.3580 - acc: 0.4594 - val_loss: 1.1757 - val_acc: 0.5269\n",
      "Epoch 20/20\n",
      "20/20 [==============================] - 86s 4s/step - loss: 1.3248 - acc: 0.4500 - val_loss: 1.2494 - val_acc: 0.5094\n"
     ]
    }
   ],
   "source": [
    "trained = model.fit_generator(\n",
    "    train_generator,\n",
    "    steps_per_epoch=20,\n",
    "    epochs=20,\n",
    "    validation_data=validation_generator,\n",
    "    validation_steps=20\n",
    ")"
   ]
  },
  {
   "cell_type": "code",
   "execution_count": 13,
   "metadata": {},
   "outputs": [
    {
     "data": {
      "image/png": "[encoded data removed]",
      "text/plain": [
       "<Figure size 432x288 with 1 Axes>"
      ]
     },
     "metadata": {
      "needs_background": "light"
     },
     "output_type": "display_data"
    },
    {
     "data": {
      "image/png": "[encoded data removed]",
      "text/plain": [
       "<Figure size 432x288 with 1 Axes>"
      ]
     },
     "metadata": {
      "needs_background": "light"
     },
     "output_type": "display_data"
    }
   ],
   "source": [
    "plt.plot(trained.history['acc'])\n",
    "plt.plot(trained.history['val_acc'])\n",
    "plt.title('Model accuracy')\n",
    "plt.ylabel('Accuracy')\n",
    "plt.xlabel('Epoch')\n",
    "plt.legend(['Train', 'Test'], loc='upper left')\n",
    "plt.show()\n",
    "\n",
    "plt.plot(trained.history['loss'])\n",
    "plt.plot(trained.history['val_loss'])\n",
    "plt.title('Model loss')\n",
    "plt.ylabel('Loss')\n",
    "plt.xlabel('Epoch')\n",
    "plt.legend(['Train', 'Test'], loc='upper left')\n",
    "plt.show()"
   ]
  },
  {
   "cell_type": "code",
   "execution_count": null,
   "metadata": {},
   "outputs": [],
   "source": []
  },
  {
   "cell_type": "code",
   "execution_count": null,
   "metadata": {},
   "outputs": [],
   "source": []
  }
 ],
 "metadata": {
  "kernelspec": {
   "display_name": "Python 3",
   "language": "python",
   "name": "python3"
  },
  "language_info": {
   "codemirror_mode": {
    "name": "ipython",
    "version": 3
   },
   "file_extension": ".py",
   "mimetype": "text/x-python",
   "name": "python",
   "nbconvert_exporter": "python",
   "pygments_lexer": "ipython3",
   "version": "3.7.2"
  }
 },
 "nbformat": 4,
 "nbformat_minor": 2
}
