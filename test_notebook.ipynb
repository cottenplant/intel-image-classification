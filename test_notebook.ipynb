{
 "cells": [
  {
   "cell_type": "code",
   "execution_count": 1,
   "metadata": {},
   "outputs": [],
   "source": [
    "import pandas as pd\n",
    "import numpy as np\n",
    "%matplotlib inline\n",
    "import matplotlib.pyplot as plt"
   ]
  },
  {
   "cell_type": "code",
   "execution_count": 2,
   "metadata": {},
   "outputs": [
    {
     "name": "stderr",
     "output_type": "stream",
     "text": [
      "Using TensorFlow backend.\n"
     ]
    }
   ],
   "source": [
    "from keras.preprocessing.image import ImageDataGenerator"
   ]
  },
  {
   "cell_type": "code",
   "execution_count": 3,
   "metadata": {},
   "outputs": [],
   "source": [
    "train_datagen = ImageDataGenerator(\n",
    "    rescale=1./255,\n",
    "    shear_range=0.2,\n",
    "    zoom_range=0.2,\n",
    "    horizontal_flip=True\n",
    ")"
   ]
  },
  {
   "cell_type": "code",
   "execution_count": 4,
   "metadata": {},
   "outputs": [],
   "source": [
    "test_datagen = ImageDataGenerator(rescale=1./255)"
   ]
  },
  {
   "cell_type": "code",
   "execution_count": 5,
   "metadata": {},
   "outputs": [
    {
     "name": "stdout",
     "output_type": "stream",
     "text": [
      "Found 14034 images belonging to 6 classes.\n"
     ]
    }
   ],
   "source": [
    "train_generator = train_datagen.flow_from_directory(\n",
    "    'data/train',\n",
    "    target_size=(32, 32),\n",
    "    batch_size=32,\n",
    "    class_mode='categorical'\n",
    ")"
   ]
  },
  {
   "cell_type": "code",
   "execution_count": 6,
   "metadata": {},
   "outputs": [
    {
     "name": "stdout",
     "output_type": "stream",
     "text": [
      "Found 3000 images belonging to 6 classes.\n"
     ]
    }
   ],
   "source": [
    "validation_generator = test_datagen.flow_from_directory(\n",
    "    'data/validation',\n",
    "    target_size=(32, 32),\n",
    "    batch_size=32,\n",
    "    class_mode='categorical'\n",
    ")"
   ]
  },
  {
   "cell_type": "code",
   "execution_count": 16,
   "metadata": {},
   "outputs": [],
   "source": [
    "from keras.models import Sequential\n",
    "from keras.layers import Dense\n",
    "from keras.layers import Flatten\n",
    "from keras.layers import Dropout\n",
    "from keras.layers import Conv2D\n",
    "from keras.layers import MaxPool2D"
   ]
  },
  {
   "cell_type": "code",
   "execution_count": 17,
   "metadata": {},
   "outputs": [
    {
     "name": "stdout",
     "output_type": "stream",
     "text": [
      "WARNING:tensorflow:From /home/samco/anaconda3/lib/python3.7/site-packages/keras/backend/tensorflow_backend.py:3445: calling dropout (from tensorflow.python.ops.nn_ops) with keep_prob is deprecated and will be removed in a future version.\n",
      "Instructions for updating:\n",
      "Please use `rate` instead of `keep_prob`. Rate should be set to `rate = 1 - keep_prob`.\n"
     ]
    }
   ],
   "source": [
    "model = Sequential()\n",
    "\n",
    "model.add(Conv2D(32, (3,3), padding='same', input_shape=(32, 32, 3), activation='relu'))\n",
    "model.add(Conv2D(32, (3, 3), activation='relu'))\n",
    "model.add(MaxPool2D(pool_size=(2, 2)))\n",
    "\n",
    "model.add(Conv2D(64, (3, 3), padding='same', activation='relu'))\n",
    "model.add(Conv2D(64, (3, 3), activation='relu'))\n",
    "model.add(MaxPool2D(pool_size=(2, 2)))\n",
    "\n",
    "model.add(Flatten())\n",
    "\n",
    "model.add(Dense(512, activation='relu'))\n",
    "model.add(Dense(256, activation='relu'))\n",
    "model.add(Dropout(rate=0.5))\n",
    "model.add(Dense(6, activation='softmax'))"
   ]
  },
  {
   "cell_type": "code",
   "execution_count": 18,
   "metadata": {},
   "outputs": [
    {
     "data": {
      "text/plain": [
       "\"model = Sequential()\\n\\n\\n        self.model.add(layers.Conv2D(150, (3, 3), activation='relu', input_shape=(150, 150, 3)))\\n        self.model.add(layers.Conv2D(200, (3, 3), activation='relu'))\\n        self.model.add(layers.MaxPooling2D((5, 5)))\\n        self.model.add(layers.Conv2D(180, (3, 3), activation='relu'))\\n        self.model.add(layers.Conv2D(140, (3, 3), activation='relu'))\\n        self.model.add(layers.Conv2D(100, (3, 3), activation='relu'))\\n        self.model.add(layers.Conv2D(50, (3, 3), activation='relu'))\\n        self.model.add(layers.MaxPooling2D((5, 5)))\\n        self.model.add(layers.Flatten())\\n        self.model.add(layers.Dense(180, activation='relu'))\\n        self.model.add(layers.Dense(100, activation='relu'))\\n        self.model.add(layers.Dense(150, activation='relu'))\\n        self.model.add(layers.Dropout(rate=0.5))\\n        self.model.add(layers.Dense(6, activation='softmax'))\""
      ]
     },
     "execution_count": 18,
     "metadata": {},
     "output_type": "execute_result"
    }
   ],
   "source": [
    "\"\"\"model = Sequential()\n",
    "\n",
    "\n",
    "        self.model.add(layers.Conv2D(150, (3, 3), activation='relu', input_shape=(150, 150, 3)))\n",
    "        self.model.add(layers.Conv2D(200, (3, 3), activation='relu'))\n",
    "        self.model.add(layers.MaxPooling2D((5, 5)))\n",
    "        self.model.add(layers.Conv2D(180, (3, 3), activation='relu'))\n",
    "        self.model.add(layers.Conv2D(140, (3, 3), activation='relu'))\n",
    "        self.model.add(layers.Conv2D(100, (3, 3), activation='relu'))\n",
    "        self.model.add(layers.Conv2D(50, (3, 3), activation='relu'))\n",
    "        self.model.add(layers.MaxPooling2D((5, 5)))\n",
    "        self.model.add(layers.Flatten())\n",
    "        self.model.add(layers.Dense(180, activation='relu'))\n",
    "        self.model.add(layers.Dense(100, activation='relu'))\n",
    "        self.model.add(layers.Dense(150, activation='relu'))\n",
    "        self.model.add(layers.Dropout(rate=0.5))\n",
    "        self.model.add(layers.Dense(6, activation='softmax'))\"\"\""
   ]
  },
  {
   "cell_type": "code",
   "execution_count": 19,
   "metadata": {},
   "outputs": [],
   "source": [
    "model.compile(loss='categorical_crossentropy', optimizer='rmsprop', metrics=['accuracy'])"
   ]
  },
  {
   "cell_type": "code",
   "execution_count": 20,
   "metadata": {},
   "outputs": [
    {
     "name": "stdout",
     "output_type": "stream",
     "text": [
      "_________________________________________________________________\n",
      "Layer (type)                 Output Shape              Param #   \n",
      "=================================================================\n",
      "conv2d_33 (Conv2D)           (None, 32, 32, 32)        896       \n",
      "_________________________________________________________________\n",
      "conv2d_34 (Conv2D)           (None, 30, 30, 32)        9248      \n",
      "_________________________________________________________________\n",
      "max_pooling2d_11 (MaxPooling (None, 15, 15, 32)        0         \n",
      "_________________________________________________________________\n",
      "conv2d_35 (Conv2D)           (None, 15, 15, 64)        18496     \n",
      "_________________________________________________________________\n",
      "conv2d_36 (Conv2D)           (None, 13, 13, 64)        36928     \n",
      "_________________________________________________________________\n",
      "max_pooling2d_12 (MaxPooling (None, 6, 6, 64)          0         \n",
      "_________________________________________________________________\n",
      "flatten_3 (Flatten)          (None, 2304)              0         \n",
      "_________________________________________________________________\n",
      "dense_4 (Dense)              (None, 512)               1180160   \n",
      "_________________________________________________________________\n",
      "dense_5 (Dense)              (None, 256)               131328    \n",
      "_________________________________________________________________\n",
      "dropout_1 (Dropout)          (None, 256)               0         \n",
      "_________________________________________________________________\n",
      "dense_6 (Dense)              (None, 6)                 1542      \n",
      "=================================================================\n",
      "Total params: 1,378,598\n",
      "Trainable params: 1,378,598\n",
      "Non-trainable params: 0\n",
      "_________________________________________________________________\n"
     ]
    }
   ],
   "source": [
    "model.summary()"
   ]
  },
  {
   "cell_type": "code",
   "execution_count": null,
   "metadata": {},
   "outputs": [
    {
     "name": "stdout",
     "output_type": "stream",
     "text": [
      "Epoch 1/10\n",
      "150/150 [==============================] - 15s 103ms/step - loss: 1.1753 - acc: 0.5463 - val_loss: 1.2097 - val_acc: 0.5281\n",
      "Epoch 2/10\n",
      "150/150 [==============================] - 17s 115ms/step - loss: 1.0639 - acc: 0.5879 - val_loss: 1.1042 - val_acc: 0.6036\n",
      "Epoch 3/10\n",
      "150/150 [==============================] - 18s 121ms/step - loss: 0.9634 - acc: 0.6291 - val_loss: 0.8353 - val_acc: 0.6987\n",
      "Epoch 4/10\n",
      "150/150 [==============================] - 18s 118ms/step - loss: 0.9003 - acc: 0.6629 - val_loss: 1.0275 - val_acc: 0.6049\n",
      "Epoch 5/10\n",
      "150/150 [==============================] - 18s 122ms/step - loss: 0.8852 - acc: 0.6713 - val_loss: 0.7752 - val_acc: 0.7362\n",
      "Epoch 6/10\n",
      " 37/150 [======>.......................] - ETA: 10s - loss: 0.9090 - acc: 0.6596"
     ]
    }
   ],
   "source": [
    "model.fit_generator(\n",
    "    train_generator,\n",
    "    steps_per_epoch=150,\n",
    "    epochs=10,\n",
    "    validation_data=validation_generator,\n",
    "    validation_steps=50\n",
    ")"
   ]
  },
  {
   "cell_type": "code",
   "execution_count": null,
   "metadata": {},
   "outputs": [],
   "source": []
  },
  {
   "cell_type": "code",
   "execution_count": null,
   "metadata": {},
   "outputs": [],
   "source": []
  }
 ],
 "metadata": {
  "kernelspec": {
   "display_name": "Python 3",
   "language": "python",
   "name": "python3"
  },
  "language_info": {
   "codemirror_mode": {
    "name": "ipython",
    "version": 3
   },
   "file_extension": ".py",
   "mimetype": "text/x-python",
   "name": "python",
   "nbconvert_exporter": "python",
   "pygments_lexer": "ipython3",
   "version": "3.7.2"
  }
 },
 "nbformat": 4,
 "nbformat_minor": 2
}
